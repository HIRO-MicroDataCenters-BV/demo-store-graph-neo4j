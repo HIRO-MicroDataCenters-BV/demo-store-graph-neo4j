{
 "cells": [
  {
   "cell_type": "markdown",
   "id": "c70c6d13",
   "metadata": {},
   "source": [
    "# Demo of graph storage in Neo4j\n",
    "This project demonstrates CRUD operations on a subgraph in Neo4j in the NextGen project."
   ]
  },
  {
   "cell_type": "markdown",
   "id": "0cc76cbb",
   "metadata": {},
   "source": [
    "## Preliminary steps:\n",
    "* Install Neo4j by following the instructions on the [official website](https://neo4j.com/docs/desktop-manual/current/installation/)\n",
    "* Install Neosemantics plugin by following the instructions on the [official website](https://neo4j.com/labs/neosemantics/installation/)\n",
    "* Run Neo4j"
   ]
  },
  {
   "cell_type": "code",
   "execution_count": 1,
   "id": "8ae04a16",
   "metadata": {},
   "outputs": [],
   "source": [
    "import json\n",
    "\n",
    "import rdflib\n",
    "import neo4j\n",
    "from neo4j import GraphDatabase\n",
    "import networkx as nx\n",
    "import matplotlib.pyplot as plt"
   ]
  },
  {
   "cell_type": "markdown",
   "id": "cc555426-da82-4cb5-873b-4f90541b3f0c",
   "metadata": {},
   "source": [
    "## Configure database\n",
    "Configure the connection to the Neo4J database <span style=\"color:red\">(update it if needed)</span>:"
   ]
  },
  {
   "cell_type": "code",
   "execution_count": 2,
   "id": "0fbbb700",
   "metadata": {},
   "outputs": [],
   "source": [
    "URI = \"neo4j://localhost:7687/\"\n",
    "USERNAME = \"neo4j\"\n",
    "PASSWORD = \"1234567890\""
   ]
  },
  {
   "cell_type": "markdown",
   "id": "4a3f6430",
   "metadata": {},
   "source": [
    "Connect to the database"
   ]
  },
  {
   "cell_type": "code",
   "execution_count": 3,
   "id": "2f05b563",
   "metadata": {},
   "outputs": [],
   "source": [
    "driver = GraphDatabase.driver(URI, auth=(USERNAME, PASSWORD))"
   ]
  },
  {
   "cell_type": "markdown",
   "id": "e1d307fb",
   "metadata": {},
   "source": [
    "Clean the database  \n",
    "<span style=\"color:red\">Running this command will delete all data in the database!</span>"
   ]
  },
  {
   "cell_type": "code",
   "execution_count": 23,
   "id": "af7c677f",
   "metadata": {},
   "outputs": [
    {
     "name": "stdout",
     "output_type": "stream",
     "text": [
      "Query counters: {'_contains_updates': True, 'nodes_deleted': 95, 'relationships_deleted': 108}.\n"
     ]
    }
   ],
   "source": [
    "with driver.session() as session:\n",
    "    query = \"MATCH (n) OPTIONAL MATCH (n)-[r]-() DELETE n, r;\"\n",
    "    records, summary, keys = driver.execute_query(query)\n",
    "    print(f\"Query counters: {summary.counters}.\")"
   ]
  },
  {
   "cell_type": "markdown",
   "id": "22496ce7",
   "metadata": {},
   "source": [
    "Configure the Graph to associate data nods with ontology classes, store an array of values ​​for some attributes, etc. More information [here](https://neo4j.com/labs/neosemantics/5.14/import/)."
   ]
  },
  {
   "cell_type": "code",
   "execution_count": 24,
   "id": "9f533dae",
   "metadata": {},
   "outputs": [
    {
     "name": "stdout",
     "output_type": "stream",
     "text": [
      "{'param': 'handleVocabUris', 'value': 'SHORTEN'}\n",
      "{'param': 'handleMultival', 'value': 'ARRAY'}\n",
      "{'param': 'handleRDFTypes', 'value': 'LABELS_AND_NODES'}\n",
      "{'param': 'keepLangTag', 'value': True}\n",
      "{'param': 'multivalPropList', 'value': ['http://purl.org/dc/terms/title', 'http://www.w3.org/ns/dcat#theme']}\n",
      "{'param': 'keepCustomDataTypes', 'value': True}\n",
      "{'param': 'applyNeo4jNaming', 'value': False}\n",
      "{'param': 'baseSchemaNamespace', 'value': 'neo4j://graph.schema#'}\n",
      "{'param': 'baseSchemaPrefix', 'value': 'n4sch'}\n",
      "{'param': 'classLabel', 'value': 'Class'}\n",
      "{'param': 'subClassOfRel', 'value': 'SCO'}\n",
      "{'param': 'dataTypePropertyLabel', 'value': 'Property'}\n",
      "{'param': 'objectPropertyLabel', 'value': 'Relationship'}\n",
      "{'param': 'subPropertyOfRel', 'value': 'SPO'}\n",
      "{'param': 'domainRel', 'value': 'DOMAIN'}\n",
      "{'param': 'rangeRel', 'value': 'RANGE'}\n",
      "{'param': 'classNamePropName', 'value': 'name'}\n",
      "{'param': 'relNamePropName', 'value': 'name'}\n"
     ]
    }
   ],
   "source": [
    "with driver.session() as session:\n",
    "    query = \"\"\"\n",
    "    CALL n10s.graphconfig.init({\n",
    "        handleVocabUris: \"SHORTEN\",\n",
    "        handleRDFTypes: \"LABELS_AND_NODES\",\n",
    "        keepLangTag: true,\n",
    "        keepCustomDataTypes: true,\n",
    "        handleMultival: \"ARRAY\",\n",
    "        multivalPropList : [\"http://www.w3.org/ns/dcat#theme\", \"http://purl.org/dc/terms/title\"]\n",
    "    });\n",
    "    \"\"\"\n",
    "    records = driver.execute_query(query)\n",
    "    for record in records.records:\n",
    "        print(record.data())"
   ]
  },
  {
   "cell_type": "markdown",
   "id": "b2a3c4ac",
   "metadata": {},
   "source": [
    "Adding Namespace Prefixes to be able to use them in requests."
   ]
  },
  {
   "cell_type": "code",
   "execution_count": 25,
   "id": "758f526e",
   "metadata": {},
   "outputs": [
    {
     "name": "stdout",
     "output_type": "stream",
     "text": [
      "{'prefix': 'sh', 'namespace': 'http://www.w3.org/ns/shacl#'}\n",
      "{'prefix': 'nextgen', 'namespace': 'http://nextgen.org/'}\n",
      "{'prefix': 'spdx', 'namespace': 'http://spdx.org/rdf/terms#'}\n",
      "{'prefix': 'foaf', 'namespace': 'http://xmlns.com/foaf/0.1/'}\n",
      "{'prefix': 'dcat', 'namespace': 'http://www.w3.org/ns/dcat#'}\n",
      "{'prefix': 'xsd', 'namespace': 'http://www.w3.org/2001/XMLSchema#'}\n",
      "{'prefix': 'dcterms', 'namespace': 'http://purl.org/dc/terms/'}\n"
     ]
    }
   ],
   "source": [
    "with driver.session() as session:\n",
    "    driver.execute_query('CALL n10s.nsprefixes.add(\"xsd\", \"http://www.w3.org/2001/XMLSchema#\");')\n",
    "    driver.execute_query('CALL n10s.nsprefixes.add(\"dcat\", \"http://www.w3.org/ns/dcat#\");')\n",
    "    driver.execute_query('CALL n10s.nsprefixes.add(\"dcterms\", \"http://purl.org/dc/terms/\");')\n",
    "    driver.execute_query('CALL n10s.nsprefixes.add(\"foaf\", \"http://xmlns.com/foaf/0.1/\");')\n",
    "    driver.execute_query('CALL n10s.nsprefixes.add(\"spdx\", \"http://spdx.org/rdf/terms#\");')\n",
    "    driver.execute_query('CALL n10s.nsprefixes.add(\"nextgen\", \"http://nextgen.org/\");')\n",
    "    driver.execute_query('CALL n10s.nsprefixes.add(\"sh\", \"http://www.w3.org/ns/shacl#\");')\n",
    "\n",
    "    records = driver.execute_query('CALL n10s.nsprefixes.list();')\n",
    "    for record in records.records:\n",
    "        print(record.data())"
   ]
  },
  {
   "cell_type": "markdown",
   "id": "4cd4ffc0",
   "metadata": {},
   "source": [
    "Import the DCAT-3 ontology"
   ]
  },
  {
   "cell_type": "code",
   "execution_count": 26,
   "id": "06e38c18",
   "metadata": {},
   "outputs": [
    {
     "name": "stdout",
     "output_type": "stream",
     "text": [
      "<Record prefix='dcterms' namespace='http://purl.org/dc/terms/'>\n"
     ]
    }
   ],
   "source": [
    "with driver.session() as session:\n",
    "    query = 'CALL n10s.onto.import.fetch(\"https://www.w3.org/ns/dcat.ttl\", \"Turtle\");'\n",
    "    records = driver.execute_query(query, result_transformer_=lambda r: r.single(strict=True))\n",
    "    print(record)"
   ]
  },
  {
   "cell_type": "markdown",
   "id": "46edfbf8",
   "metadata": {},
   "source": [
    "## Creating a new subgraph"
   ]
  },
  {
   "cell_type": "code",
   "execution_count": 27,
   "id": "9186b9e2",
   "metadata": {},
   "outputs": [],
   "source": [
    "data = {\n",
    "    \"@context\": {\n",
    "        \"@base\": \"http://example.com/base/\",\n",
    "        \"xsd\": \"http://www.w3.org/2001/XMLSchema#\",\n",
    "        \"dcat\": \"http://www.w3.org/ns/dcat#\",\n",
    "        \"dcterms\": \"http://purl.org/dc/terms/\",\n",
    "        \"spdx\": \"http://spdx.org/rdf/terms#\",\n",
    "        \"foaf\": \"http://xmlns.com/foaf/0.1/\",\n",
    "        \"nextgen\": \"http://nextgen.org/\",\n",
    "        \"med1\": \"http://example-med-ontology-1.org/\",\n",
    "        \"med2\": \"http://example-med-ontology-2.org/\",\n",
    "    },\n",
    "    \"@graph\": [\n",
    "        {\n",
    "            \"@id\": \"catalog-001\",\n",
    "            \"@type\": \"dcat:Catalog\",\n",
    "            \"dcterms:identifier\": \"c1\",\n",
    "            \"dcat:dataset\": [{\"@id\": \"dataset-001\"}, {\"@id\": \"dataset-002\"}],\n",
    "            \"dcat:service\": [{\"@id\": \"data-service-001\"}, {\"@id\": \"data-service-002\"}],\n",
    "        },\n",
    "        {\n",
    "            \"@id\": \"dataset-001\",\n",
    "            \"@type\": \"dcat:Dataset\",\n",
    "            \"dcterms:identifier\": \"dataset1\",\n",
    "            \"dcterms:title\": [\n",
    "                {\n",
    "                    \"@value\": \"Example dataset 1\",\n",
    "                    \"@language\": \"en\"\n",
    "                },\n",
    "                {\n",
    "                    \"@value\": \"Пример датасета 1\",\n",
    "                    \"@language\": \"ru\"\n",
    "                }\n",
    "            ],\n",
    "            \"dcterms:issued\": \"2011-12-05\",\n",
    "            \"dcat:theme\": [\"clinical Data\", \"general\"],\n",
    "            \"dcterms:creator\": {\"@id\": \"person-001\"},\n",
    "            \"nextgen:isShared\": False,\n",
    "            \"dcat:distribution\": {\"@id\": \"distribution-001\"},\n",
    "            \"med1:sex\": \"M\",\n",
    "            \"med1:age\": {\n",
    "                \"@value\": \"30\",\n",
    "                \"@type\": \"xsd:integer\"\n",
    "            },\n",
    "            \"med2:diagnoses\": {\"@id\": \"diagnoses-001\"},\n",
    "        },\n",
    "        {\n",
    "            \"@id\": \"distribution-001\",\n",
    "            \"@type\": \"dcat:Distribution\",\n",
    "            \"spdx:checksum\": {\n",
    "                \"@type\": \"spdx:Checksum\",\n",
    "                \"spdx:algorithm\": \"sha256\",\n",
    "                \"spdx:checksumValue\": \"3e23e8160039594a33894f6564e1b1348bb8e482aa04f83e8e39b4e804d19b84\",\n",
    "            },\n",
    "            \"dcat:byteSize\": 5120,\n",
    "            \"dcat:mediaType\": \"application/csv\",\n",
    "            \"dcat:accessService\": {\"@id\": \"data-service-001\"},\n",
    "        },\n",
    "        {\n",
    "            \"@id\": \"data-service-001\",\n",
    "            \"@type\": \"dcat:DataService\",\n",
    "            \"dcat:endpointURL\": \"http://example.org/dataproduct1\",\n",
    "            \"dcat:servesDataset\": {\"@id\": \"dataset-001\"},\n",
    "        },\n",
    "        {\n",
    "            \"@id\": \"diagnoses-001\",\n",
    "            \"@type\": \"med2:Diagnoses\",\n",
    "            \"med2:hasDiagnosis\": [{\"@id\": \"diagnosis-001\"}, {\"@id\": \"diagnosis-002\"}],\n",
    "        },\n",
    "        {\n",
    "            \"@id\": \"diagnosis-001\",\n",
    "            \"@type\": \"med2:Diagnosis\",\n",
    "            \"med2:code\": \"I10\",\n",
    "            \"med2:description\": \"Essential (primary) hypertension\",\n",
    "        },\n",
    "        {\n",
    "            \"@id\": \"diagnosis-002\",\n",
    "            \"@type\": \"med2:Diagnosis\",\n",
    "            \"med2:code\": \"E11\",\n",
    "            \"med2:description\": \"Type 2 diabetes mellitus\",\n",
    "        },\n",
    "        {\n",
    "            \"@id\": \"dataset-002\",\n",
    "            \"@type\": \"dcat:Dataset\",\n",
    "            \"dcterms:identifier\": \"dataset2\",\n",
    "            \"dcterms:title\": \"Example dataset 2\",\n",
    "            \"dcterms:issued\": \"2024-02-25\",\n",
    "            \"dcat:theme\": [\"clinical data\", \"general\", \"another\"],\n",
    "            \"dcterms:creator\": {\"@id\": \"person-001\"},\n",
    "            \"nextgen:isShared\": False,\n",
    "            \"dcat:distribution\": {\"@id\": \"distribution-002\"},\n",
    "        },\n",
    "        {\n",
    "            \"@id\": \"distribution-002\",\n",
    "            \"@type\": \"dcat:Distribution\",\n",
    "            \"spdx:checksum\": {\n",
    "                \"@type\": \"spdx:Checksum\",\n",
    "                \"spdx:algorithm\": \"sha256\",\n",
    "                \"spdx:checksumValue\": \"3e23e8160039594a33894f6564e1b1348bb8e482aa04f83e8e39b4e804d19b85\",\n",
    "            },\n",
    "            \"dcat:byteSize\": 1024,\n",
    "            \"dcat:mediaType\": \"application/xml\",\n",
    "            \"dcat:accessService\": {\"@id\": \"data-service-002\"},\n",
    "        },\n",
    "        {\n",
    "            \"@id\": \"data-service-002\",\n",
    "            \"@type\": \"dcat:DataService\",\n",
    "            \"dcat:endpointURL\": \"http://example.org/dataproduct2\",\n",
    "            \"dcat:servesDataset\": {\"@id\": \"dataset-002\"},\n",
    "        },\n",
    "        {\n",
    "            \"@id\": \"person-001\",\n",
    "            \"@type\": \"foaf:Person\",\n",
    "            \"foaf:name\": \"Kate Smith\",\n",
    "            \"dcterms:identifier\": \"user1\",\n",
    "        },\n",
    "    ],\n",
    "}"
   ]
  },
  {
   "cell_type": "markdown",
   "id": "f0d0ce24",
   "metadata": {},
   "source": [
    "Define the function for converting the python dictionary into the text."
   ]
  },
  {
   "cell_type": "code",
   "execution_count": 28,
   "id": "02836ccd",
   "metadata": {},
   "outputs": [],
   "source": [
    "def json_to_string(data_json):\n",
    "    json_str = json.dumps(data_json, ensure_ascii=False)\n",
    "    escaped_str = json.dumps(json_str)\n",
    "    return escaped_str"
   ]
  },
  {
   "cell_type": "markdown",
   "id": "e89a3e10",
   "metadata": {},
   "source": [
    "Convert the dictionary into the text using the transformation function and execute a query for data imports in Neo4j using the Neosemantics plugin."
   ]
  },
  {
   "cell_type": "code",
   "execution_count": 29,
   "id": "4837c983",
   "metadata": {},
   "outputs": [
    {
     "name": "stdout",
     "output_type": "stream",
     "text": [
      "\"{\\\"@context\\\": {\\\"@base\\\": \\\"http://example.com/base/\\\", \\\"xsd\\\": \\\"http://www.w3.org/2001/XMLSchema#\\\", \\\"dcat\\\": \\\"http://www.w3.org/ns/dcat#\\\", \\\"dcterms\\\": \\\"http://purl.org/dc/terms/\\\", \\\"spdx\\\": \\\"http://spdx.org/rdf/terms#\\\", \\\"foaf\\\": \\\"http://xmlns.com/foaf/0.1/\\\", \\\"nextgen\\\": \\\"http://nextgen.org/\\\", \\\"med1\\\": \\\"http://example-med-ontology-1.org/\\\", \\\"med2\\\": \\\"http://example-med-ontology-2.org/\\\"}, \\\"@graph\\\": [{\\\"@id\\\": \\\"catalog-001\\\", \\\"@type\\\": \\\"dcat:Catalog\\\", \\\"dcterms:identifier\\\": \\\"c1\\\", \\\"dcat:dataset\\\": [{\\\"@id\\\": \\\"dataset-001\\\"}, {\\\"@id\\\": \\\"dataset-002\\\"}], \\\"dcat:service\\\": [{\\\"@id\\\": \\\"data-service-001\\\"}, {\\\"@id\\\": \\\"data-service-002\\\"}]}, {\\\"@id\\\": \\\"dataset-001\\\", \\\"@type\\\": \\\"dcat:Dataset\\\", \\\"dcterms:identifier\\\": \\\"dataset1\\\", \\\"dcterms:title\\\": [{\\\"@value\\\": \\\"Example dataset 1\\\", \\\"@language\\\": \\\"en\\\"}, {\\\"@value\\\": \\\"\\u041f\\u0440\\u0438\\u043c\\u0435\\u0440 \\u0434\\u0430\\u0442\\u0430\\u0441\\u0435\\u0442\\u0430 1\\\", \\\"@language\\\": \\\"ru\\\"}], \\\"dcterms:issued\\\": \\\"2011-12-05\\\", \\\"dcat:theme\\\": [\\\"clinical Data\\\", \\\"general\\\"], \\\"dcterms:creator\\\": {\\\"@id\\\": \\\"person-001\\\"}, \\\"nextgen:isShared\\\": false, \\\"dcat:distribution\\\": {\\\"@id\\\": \\\"distribution-001\\\"}, \\\"med1:sex\\\": \\\"M\\\", \\\"med1:age\\\": {\\\"@value\\\": \\\"30\\\", \\\"@type\\\": \\\"xsd:integer\\\"}, \\\"med2:diagnoses\\\": {\\\"@id\\\": \\\"diagnoses-001\\\"}}, {\\\"@id\\\": \\\"distribution-001\\\", \\\"@type\\\": \\\"dcat:Distribution\\\", \\\"spdx:checksum\\\": {\\\"@type\\\": \\\"spdx:Checksum\\\", \\\"spdx:algorithm\\\": \\\"sha256\\\", \\\"spdx:checksumValue\\\": \\\"3e23e8160039594a33894f6564e1b1348bb8e482aa04f83e8e39b4e804d19b84\\\"}, \\\"dcat:byteSize\\\": 5120, \\\"dcat:mediaType\\\": \\\"application/csv\\\", \\\"dcat:accessService\\\": {\\\"@id\\\": \\\"data-service-001\\\"}}, {\\\"@id\\\": \\\"data-service-001\\\", \\\"@type\\\": \\\"dcat:DataService\\\", \\\"dcat:endpointURL\\\": \\\"http://example.org/dataproduct1\\\", \\\"dcat:servesDataset\\\": {\\\"@id\\\": \\\"dataset-001\\\"}}, {\\\"@id\\\": \\\"diagnoses-001\\\", \\\"@type\\\": \\\"med2:Diagnoses\\\", \\\"med2:hasDiagnosis\\\": [{\\\"@id\\\": \\\"diagnosis-001\\\"}, {\\\"@id\\\": \\\"diagnosis-002\\\"}]}, {\\\"@id\\\": \\\"diagnosis-001\\\", \\\"@type\\\": \\\"med2:Diagnosis\\\", \\\"med2:code\\\": \\\"I10\\\", \\\"med2:description\\\": \\\"Essential (primary) hypertension\\\"}, {\\\"@id\\\": \\\"diagnosis-002\\\", \\\"@type\\\": \\\"med2:Diagnosis\\\", \\\"med2:code\\\": \\\"E11\\\", \\\"med2:description\\\": \\\"Type 2 diabetes mellitus\\\"}, {\\\"@id\\\": \\\"dataset-002\\\", \\\"@type\\\": \\\"dcat:Dataset\\\", \\\"dcterms:identifier\\\": \\\"dataset2\\\", \\\"dcterms:title\\\": \\\"Example dataset 2\\\", \\\"dcterms:issued\\\": \\\"2024-02-25\\\", \\\"dcat:theme\\\": [\\\"clinical data\\\", \\\"general\\\", \\\"another\\\"], \\\"dcterms:creator\\\": {\\\"@id\\\": \\\"person-001\\\"}, \\\"nextgen:isShared\\\": false, \\\"dcat:distribution\\\": {\\\"@id\\\": \\\"distribution-002\\\"}}, {\\\"@id\\\": \\\"distribution-002\\\", \\\"@type\\\": \\\"dcat:Distribution\\\", \\\"spdx:checksum\\\": {\\\"@type\\\": \\\"spdx:Checksum\\\", \\\"spdx:algorithm\\\": \\\"sha256\\\", \\\"spdx:checksumValue\\\": \\\"3e23e8160039594a33894f6564e1b1348bb8e482aa04f83e8e39b4e804d19b85\\\"}, \\\"dcat:byteSize\\\": 1024, \\\"dcat:mediaType\\\": \\\"application/xml\\\", \\\"dcat:accessService\\\": {\\\"@id\\\": \\\"data-service-002\\\"}}, {\\\"@id\\\": \\\"data-service-002\\\", \\\"@type\\\": \\\"dcat:DataService\\\", \\\"dcat:endpointURL\\\": \\\"http://example.org/dataproduct2\\\", \\\"dcat:servesDataset\\\": {\\\"@id\\\": \\\"dataset-002\\\"}}, {\\\"@id\\\": \\\"person-001\\\", \\\"@type\\\": \\\"foaf:Person\\\", \\\"foaf:name\\\": \\\"Kate Smith\\\", \\\"dcterms:identifier\\\": \\\"user1\\\"}]}\"\n",
      "<Record terminationStatus='OK' triplesLoaded=63 triplesParsed=63 namespaces={'ns1': 'http://example-med-ontology-2.org/', 'dcat': 'http://www.w3.org/ns/dcat#', 'foaf': 'http://xmlns.com/foaf/0.1/', 'nextgen': 'http://nextgen.org/', 'ns0': 'http://example-med-ontology-1.org/', 'xsd': 'http://www.w3.org/2001/XMLSchema#', 'rdf': 'http://www.w3.org/1999/02/22-rdf-syntax-ns#', 'spdx': 'http://spdx.org/rdf/terms#', 'sh': 'http://www.w3.org/ns/shacl#', 'n4sch': 'neo4j://graph.schema#', 'dcterms': 'http://purl.org/dc/terms/'} extraInfo='' callParams={'singleTx': True}>\n"
     ]
    }
   ],
   "source": [
    "data_str = json_to_string(data)\n",
    "print(data_str)\n",
    "\n",
    "with driver.session() as session:\n",
    "    query = f'CALL n10s.rdf.import.inline({data_str}, \"JSON-LD\");'\n",
    "    record = driver.execute_query(query, result_transformer_=lambda r: r.single(strict=True))\n",
    "    print(record)"
   ]
  },
  {
   "cell_type": "markdown",
   "id": "f3d9e53b",
   "metadata": {},
   "source": [
    "## Validation at Neo4j level"
   ]
  },
  {
   "cell_type": "markdown",
   "id": "1f4faf99",
   "metadata": {},
   "source": [
    "Import the demo shacl for the DCAT-3 ontology."
   ]
  },
  {
   "cell_type": "code",
   "execution_count": 30,
   "id": "e4001a8e",
   "metadata": {},
   "outputs": [
    {
     "name": "stdout",
     "output_type": "stream",
     "text": [
      "EagerResult(records=[<Record target='dcat__Service' propertyOrRelationshipPath='dcat__title' param='sh:datatype' value='http://www.w3.org/2001/XMLSchema#string'>, <Record target='dcat__Catalog' propertyOrRelationshipPath='dcat__description' param='sh:datatype' value='http://www.w3.org/2001/XMLSchema#string'>, <Record target='dcat__Dataset' propertyOrRelationshipPath='dcat__publisher' param='sh:datatype' value='http://www.w3.org/2001/XMLSchema#string'>, <Record target='dcat__Distribution' propertyOrRelationshipPath='dcat__format' param='sh:datatype' value='http://www.w3.org/2001/XMLSchema#string'>, <Record target='dcat__Catalog' propertyOrRelationshipPath='dcat__title' param='sh:datatype' value='http://www.w3.org/2001/XMLSchema#string'>, <Record target='dcat__Distribution' propertyOrRelationshipPath='dcat__accessURL' param='sh:datatype' value='http://www.w3.org/2001/XMLSchema#string'>, <Record target='dcat__Dataset' propertyOrRelationshipPath='dcat__title' param='sh:datatype' value='http://www.w3.org/2001/XMLSchema#string'>, <Record target='dcat__Service' propertyOrRelationshipPath='dcat__endpointURL' param='sh:datatype' value='http://www.w3.org/2001/XMLSchema#string'>], summary=<neo4j._work.summary.ResultSummary object at 0x00000218F5DC9D60>, keys=['target', 'propertyOrRelationshipPath', 'param', 'value'])\n"
     ]
    }
   ],
   "source": [
    "with driver.session() as session:\n",
    "    query = f'CALL n10s.validation.shacl.import.fetch(\"https://raw.githubusercontent.com/HIRO-MicroDataCenters-BV/demo-store-graph-neo4j/refs/heads/main/data/demo-dcat-shacl.ttl\", \"Turtle\");'\n",
    "    records = driver.execute_query(query)\n",
    "    print(records)"
   ]
  },
  {
   "cell_type": "markdown",
   "id": "6c8734cf",
   "metadata": {},
   "source": [
    "Display the list of shapes."
   ]
  },
  {
   "cell_type": "code",
   "execution_count": 31,
   "id": "542d8545",
   "metadata": {},
   "outputs": [
    {
     "name": "stdout",
     "output_type": "stream",
     "text": [
      "{'target': 'dcat__Service', 'propertyOrRelationshipPath': 'dcat__title', 'param': 'sh:datatype', 'value': 'http://www.w3.org/2001/XMLSchema#string'}\n",
      "{'target': 'dcat__Catalog', 'propertyOrRelationshipPath': 'dcat__description', 'param': 'sh:datatype', 'value': 'http://www.w3.org/2001/XMLSchema#string'}\n",
      "{'target': 'dcat__Dataset', 'propertyOrRelationshipPath': 'dcat__publisher', 'param': 'sh:datatype', 'value': 'http://www.w3.org/2001/XMLSchema#string'}\n",
      "{'target': 'dcat__Distribution', 'propertyOrRelationshipPath': 'dcat__format', 'param': 'sh:datatype', 'value': 'http://www.w3.org/2001/XMLSchema#string'}\n",
      "{'target': 'dcat__Catalog', 'propertyOrRelationshipPath': 'dcat__title', 'param': 'sh:datatype', 'value': 'http://www.w3.org/2001/XMLSchema#string'}\n",
      "{'target': 'dcat__Distribution', 'propertyOrRelationshipPath': 'dcat__accessURL', 'param': 'sh:datatype', 'value': 'http://www.w3.org/2001/XMLSchema#string'}\n",
      "{'target': 'dcat__Dataset', 'propertyOrRelationshipPath': 'dcat__title', 'param': 'sh:datatype', 'value': 'http://www.w3.org/2001/XMLSchema#string'}\n",
      "{'target': 'dcat__Service', 'propertyOrRelationshipPath': 'dcat__endpointURL', 'param': 'sh:datatype', 'value': 'http://www.w3.org/2001/XMLSchema#string'}\n"
     ]
    }
   ],
   "source": [
    "with driver.session() as session:\n",
    "    records = driver.execute_query('CALL n10s.validation.shacl.listShapes();')\n",
    "    for record in records.records:\n",
    "        print(record.data())"
   ]
  },
  {
   "cell_type": "markdown",
   "id": "e7804ca0",
   "metadata": {},
   "source": [
    "Validate the entire graph"
   ]
  },
  {
   "cell_type": "code",
   "execution_count": 32,
   "id": "e9e653bb",
   "metadata": {},
   "outputs": [],
   "source": [
    "with driver.session() as session:\n",
    "    records = driver.execute_query('CALL n10s.validation.shacl.validate() yield focusNode, nodeType,propertyShape,offendingValue,resultPath,severity;')\n",
    "    for record in records.records:\n",
    "        print(record.data())"
   ]
  },
  {
   "cell_type": "markdown",
   "id": "b2560f13",
   "metadata": {},
   "source": [
    "Upload an invalid subraph"
   ]
  },
  {
   "cell_type": "code",
   "execution_count": 33,
   "id": "b65f1dda",
   "metadata": {},
   "outputs": [
    {
     "name": "stdout",
     "output_type": "stream",
     "text": [
      "\"{\\\"@context\\\": {\\\"@base\\\": \\\"http://example.com/base/\\\", \\\"dcat\\\": \\\"http://www.w3.org/ns/dcat#\\\", \\\"dcterms\\\": \\\"http://purl.org/dc/terms/\\\"}, \\\"@graph\\\": [{\\\"@id\\\": \\\"catalog-002\\\", \\\"@type\\\": \\\"dcat:Catalog\\\", \\\"dcterms:identifier\\\": \\\"c2\\\", \\\"dcat:title\\\": 111}]}\"\n",
      "<Record terminationStatus='OK' triplesLoaded=3 triplesParsed=3 namespaces={'ns1': 'http://example-med-ontology-2.org/', 'dcat': 'http://www.w3.org/ns/dcat#', 'foaf': 'http://xmlns.com/foaf/0.1/', 'nextgen': 'http://nextgen.org/', 'ns0': 'http://example-med-ontology-1.org/', 'xsd': 'http://www.w3.org/2001/XMLSchema#', 'rdf': 'http://www.w3.org/1999/02/22-rdf-syntax-ns#', 'spdx': 'http://spdx.org/rdf/terms#', 'sh': 'http://www.w3.org/ns/shacl#', 'n4sch': 'neo4j://graph.schema#', 'dcterms': 'http://purl.org/dc/terms/'} extraInfo='' callParams={'singleTx': True}>\n"
     ]
    }
   ],
   "source": [
    "data = {\n",
    "    \"@context\": {\n",
    "        \"@base\": \"http://example.com/base/\",\n",
    "        \"dcat\": \"http://www.w3.org/ns/dcat#\",\n",
    "        \"dcterms\": \"http://purl.org/dc/terms/\",\n",
    "    },\n",
    "    \"@graph\": [\n",
    "        {\n",
    "            \"@id\": \"catalog-002\",\n",
    "            \"@type\": \"dcat:Catalog\",\n",
    "            \"dcterms:identifier\": \"c2\",\n",
    "            \"dcat:title\": 111  # Wrong type, must be str\n",
    "        }\n",
    "    ]\n",
    "}\n",
    "\n",
    "data_str = json_to_string(data)\n",
    "print(data_str)\n",
    "\n",
    "with driver.session() as session:\n",
    "    query = f'CALL n10s.rdf.import.inline({data_str}, \"JSON-LD\");'\n",
    "    record = driver.execute_query(query, result_transformer_=lambda r: r.single(strict=True))\n",
    "    print(record)\n",
    "    "
   ]
  },
  {
   "cell_type": "markdown",
   "id": "08618906",
   "metadata": {},
   "source": [
    "Validate the graph again."
   ]
  },
  {
   "cell_type": "code",
   "execution_count": 34,
   "id": "09060936",
   "metadata": {},
   "outputs": [
    {
     "name": "stdout",
     "output_type": "stream",
     "text": [
      "{'focusNode': 'http://example.com/base/catalog-002', 'nodeType': 'http://www.w3.org/ns/dcat#Catalog', 'propertyShape': 'http://www.w3.org/ns/shacl#DatatypeConstraintComponent', 'offendingValue': 111, 'resultPath': 'http://www.w3.org/ns/dcat#title', 'severity': 'http://www.w3.org/ns/shacl#Violation'}\n"
     ]
    }
   ],
   "source": [
    "with driver.session() as session:\n",
    "    records = driver.execute_query('CALL n10s.validation.shacl.validate() yield focusNode, nodeType,propertyShape,offendingValue,resultPath,severity;')\n",
    "    for record in records.records:\n",
    "        print(record.data())"
   ]
  },
  {
   "cell_type": "markdown",
   "id": "7442c3a6",
   "metadata": {},
   "source": [
    "## Retrieving data"
   ]
  },
  {
   "cell_type": "markdown",
   "id": "8d7ea2a7",
   "metadata": {},
   "source": [
    "Define a function to visualize a graph"
   ]
  },
  {
   "cell_type": "code",
   "execution_count": 18,
   "id": "cf7d27d0",
   "metadata": {},
   "outputs": [],
   "source": [
    "def visualize_result(query_graph, nodes_text_properties=None):\n",
    "    G = nx.DiGraph()\n",
    "\n",
    "    if nodes_text_properties is None:\n",
    "        nodes_text_properties = {}\n",
    "\n",
    "    labels = {}\n",
    "    edge_labels = {}\n",
    "\n",
    "    for node in query_graph.nodes:\n",
    "        node_labels = list(node.labels)\n",
    "        \n",
    "        node_text = None\n",
    "        for node_label in node_labels:\n",
    "            display_label = nodes_text_properties.get(node_label, None)\n",
    "            if display_label is not None:\n",
    "                node_text = node[display_label]\n",
    "\n",
    "        if node_text is None:\n",
    "            node_text = node_labels[0]\n",
    "\n",
    "        G.add_node(node.element_id, label=node_text)\n",
    "        labels[node.element_id] = node_text\n",
    "\n",
    "    for relationship in query_graph.relationships:\n",
    "        G.add_edge(relationship.start_node.element_id, relationship.end_node.element_id)\n",
    "        edge_labels[\n",
    "            (relationship.start_node.element_id, relationship.end_node.element_id)\n",
    "        ] = relationship.type\n",
    "\n",
    "    plt.figure(figsize=(10, 10))\n",
    "    pos = nx.spring_layout(G)\n",
    "\n",
    "    nx.draw(\n",
    "        G,\n",
    "        pos,\n",
    "        with_labels=True,\n",
    "        labels=labels,\n",
    "        node_size=2000,\n",
    "        node_color=\"lightgray\",\n",
    "        edge_color=\"black\",\n",
    "        font_size=8,\n",
    "        font_weight=\"normal\",\n",
    "    )\n",
    "    nx.draw_networkx_edge_labels(\n",
    "        G, pos, edge_labels=edge_labels, font_size=8, font_color=\"black\"\n",
    "    )\n",
    "\n",
    "    plt.show()"
   ]
  },
  {
   "cell_type": "markdown",
   "id": "b5a2d280",
   "metadata": {},
   "source": [
    "Retrieve the \"Dataset 1\" subgraph."
   ]
  },
  {
   "cell_type": "code",
   "execution_count": 35,
   "id": "82610872",
   "metadata": {},
   "outputs": [
    {
     "data": {
      "image/png": "[encoded data removed]",
      "text/plain": [
       "<Figure size 1000x1000 with 1 Axes>"
      ]
     },
     "metadata": {},
     "output_type": "display_data"
    }
   ],
   "source": [
    "with driver.session() as session:\n",
    "    query = \"\"\"\n",
    "    MATCH (d:dcat__Dataset)-[r*]->(related)\n",
    "    WHERE d.dcterms__identifier = \"dataset1\"\n",
    "    AND all(rel IN r WHERE type(rel) <> \"rdf__type\")\n",
    "    RETURN r, related;\n",
    "    \"\"\"\n",
    "    records = driver.execute_query(query, result_transformer_=neo4j.Result.graph)\n",
    "\n",
    "visualize_result(records, nodes_text_properties={\n",
    "    \"foaf__Person\": \"foaf__name\",\n",
    "    \"dcat__Distribution\": \"dcat__mediaType\",\n",
    "    \"dcat__Dataset\": \"dcterms__title\",\n",
    "})"
   ]
  },
  {
   "cell_type": "markdown",
   "id": "8632c600",
   "metadata": {},
   "source": [
    "Get the Dataset attributes."
   ]
  },
  {
   "cell_type": "code",
   "execution_count": 36,
   "id": "211702c4",
   "metadata": {},
   "outputs": [
    {
     "name": "stdout",
     "output_type": "stream",
     "text": [
      "Dataset:\n",
      "dcterms__identifier: dataset1\n",
      "nextgen__isShared: False\n",
      "dcterms__issued: 2011-12-05\n",
      "dcat__theme: ['general', 'clinical Data']\n",
      "ns0__sex: M\n",
      "dcterms__title: ['Example dataset 1@en', 'Пример датасета 1@ru']\n",
      "ns0__age: 30\n",
      "uri: http://example.com/base/dataset-001\n"
     ]
    }
   ],
   "source": [
    "with driver.session() as session:\n",
    "    query = \"\"\"\n",
    "    MATCH (d:dcat__Dataset)\n",
    "    WHERE d.dcterms__identifier = \"dataset1\"\n",
    "    RETURN d;\n",
    "    \"\"\"\n",
    "    record = driver.execute_query(query, result_transformer_=lambda r: r.single(strict=True))\n",
    "\n",
    "    print(\"Dataset:\")\n",
    "    for k, v in record.data()[\"d\"].items():\n",
    "        print(f\"{k}: {v}\")"
   ]
  },
  {
   "cell_type": "markdown",
   "id": "557968fb",
   "metadata": {},
   "source": [
    "Get the Distribution attributes."
   ]
  },
  {
   "cell_type": "code",
   "execution_count": 37,
   "id": "5144a651",
   "metadata": {},
   "outputs": [
    {
     "name": "stdout",
     "output_type": "stream",
     "text": [
      "Distribution:\n",
      "dcat__byteSize: 5120\n",
      "uri: http://example.com/base/distribution-001\n",
      "dcat__mediaType: application/csv\n"
     ]
    }
   ],
   "source": [
    "with driver.session() as session:\n",
    "    query = \"\"\"\n",
    "    MATCH (d1:dcat__Dataset)-[]->(d2:dcat__Distribution)\n",
    "    WHERE d1.dcterms__identifier = \"dataset1\"\n",
    "    RETURN d2;\n",
    "    \"\"\"\n",
    "    record = driver.execute_query(query, result_transformer_=lambda r: r.single(strict=True))\n",
    "\n",
    "    print(\"Distribution:\")\n",
    "    for k, v in record.data()[\"d2\"].items():\n",
    "        print(f\"{k}: {v}\")"
   ]
  },
  {
   "cell_type": "markdown",
   "id": "401a5f20",
   "metadata": {},
   "source": [
    "Get the Checksum attributes."
   ]
  },
  {
   "cell_type": "code",
   "execution_count": 38,
   "id": "19d93df8",
   "metadata": {},
   "outputs": [
    {
     "name": "stdout",
     "output_type": "stream",
     "text": [
      "Checksums:\n",
      "--- Checksum:\n",
      "spdx__algorithm: sha256\n",
      "spdx__checksumValue: 3e23e8160039594a33894f6564e1b1348bb8e482aa04f83e8e39b4e804d19b84\n",
      "uri: bnode://genid-eab37ea530a74b739647b5fcd7644e92236-b0\n"
     ]
    }
   ],
   "source": [
    "with driver.session() as session:\n",
    "    query = \"\"\"\n",
    "    MATCH (d:dcat__Dataset)-[]->(d2:dcat__Distribution)-[]->(cs:spdx__Checksum)\n",
    "    WHERE d.dcterms__identifier = \"dataset1\"\n",
    "    RETURN cs;\n",
    "    \"\"\"\n",
    "    records = driver.execute_query(query)\n",
    "\n",
    "    print(\"Checksums:\")\n",
    "    for i in records.records:\n",
    "        print(\"--- Checksum:\")\n",
    "        for k, v in i.data()[\"cs\"].items():\n",
    "            print(f\"{k}: {v}\")"
   ]
  },
  {
   "cell_type": "markdown",
   "id": "0fc4cb81",
   "metadata": {},
   "source": [
    "## Updating the subgraph"
   ]
  },
  {
   "cell_type": "markdown",
   "id": "07a1523b",
   "metadata": {},
   "source": [
    "Update the dataset title, distribution attributes and checksum."
   ]
  },
  {
   "cell_type": "code",
   "execution_count": 39,
   "id": "876fa9ea",
   "metadata": {},
   "outputs": [],
   "source": [
    "new_data = {\n",
    "    \"@context\": {\n",
    "        \"@base\": \"http://example.com/base/\",\n",
    "        \"dcat\": \"http://www.w3.org/ns/dcat#\",\n",
    "        \"dcterms\": \"http://purl.org/dc/terms/\",\n",
    "        \"spdx\": \"http://spdx.org/rdf/terms#\",\n",
    "    },\n",
    "    \"@graph\": [\n",
    "        {\n",
    "            \"@id\": \"dataset-001\",\n",
    "            \"@type\": \"dcat:Dataset\",\n",
    "            \"dcterms:identifier\": \"dataset1\",\n",
    "            \"dcterms:title\": [\n",
    "                {\n",
    "                    \"@value\": \"Exemple de jeu de données 1\",\n",
    "                    \"@language\": \"fr\"\n",
    "                }\n",
    "            ],\n",
    "        },\n",
    "        {\n",
    "            \"@id\": \"distribution-001\",\n",
    "            \"@type\": \"dcat:Distribution\",\n",
    "            \"spdx:checksum\": {\n",
    "                \"@type\": \"spdx:Checksum\",\n",
    "                \"spdx:algorithm\": \"md5\",\n",
    "                \"spdx:checksumValue\": \"3e23e8160039594a33894f6564e1b1348bb8e482aa04f83e8e39b4e804d19b00\",\n",
    "            },\n",
    "            \"dcat:byteSize\": 2024,\n",
    "            \"dcat:mediaType\": \"application/json\",\n",
    "        },\n",
    "    ],\n",
    "}"
   ]
  },
  {
   "cell_type": "markdown",
   "id": "91062e9b",
   "metadata": {},
   "source": [
    "Convert the dictionary into the text using the transformation function and execute a query with the new data for data imports in Neo4j using the Neosemantics plugin."
   ]
  },
  {
   "cell_type": "code",
   "execution_count": 40,
   "id": "32c37639",
   "metadata": {},
   "outputs": [
    {
     "name": "stdout",
     "output_type": "stream",
     "text": [
      "\"{\\\"@context\\\": {\\\"@base\\\": \\\"http://example.com/base/\\\", \\\"dcat\\\": \\\"http://www.w3.org/ns/dcat#\\\", \\\"dcterms\\\": \\\"http://purl.org/dc/terms/\\\", \\\"spdx\\\": \\\"http://spdx.org/rdf/terms#\\\"}, \\\"@graph\\\": [{\\\"@id\\\": \\\"dataset-001\\\", \\\"@type\\\": \\\"dcat:Dataset\\\", \\\"dcterms:identifier\\\": \\\"dataset1\\\", \\\"dcterms:title\\\": [{\\\"@value\\\": \\\"Exemple de jeu de donn\\u00e9es 1\\\", \\\"@language\\\": \\\"fr\\\"}]}, {\\\"@id\\\": \\\"distribution-001\\\", \\\"@type\\\": \\\"dcat:Distribution\\\", \\\"spdx:checksum\\\": {\\\"@type\\\": \\\"spdx:Checksum\\\", \\\"spdx:algorithm\\\": \\\"md5\\\", \\\"spdx:checksumValue\\\": \\\"3e23e8160039594a33894f6564e1b1348bb8e482aa04f83e8e39b4e804d19b00\\\"}, \\\"dcat:byteSize\\\": 2024, \\\"dcat:mediaType\\\": \\\"application/json\\\"}]}\"\n",
      "<Record terminationStatus='OK' triplesLoaded=10 triplesParsed=10 namespaces={'ns1': 'http://example-med-ontology-2.org/', 'dcat': 'http://www.w3.org/ns/dcat#', 'foaf': 'http://xmlns.com/foaf/0.1/', 'nextgen': 'http://nextgen.org/', 'ns0': 'http://example-med-ontology-1.org/', 'xsd': 'http://www.w3.org/2001/XMLSchema#', 'rdf': 'http://www.w3.org/1999/02/22-rdf-syntax-ns#', 'spdx': 'http://spdx.org/rdf/terms#', 'sh': 'http://www.w3.org/ns/shacl#', 'n4sch': 'neo4j://graph.schema#', 'dcterms': 'http://purl.org/dc/terms/'} extraInfo='' callParams={'singleTx': True}>\n"
     ]
    }
   ],
   "source": [
    "new_data_str = json_to_string(new_data)\n",
    "print(new_data_str)\n",
    "\n",
    "with driver.session() as session:\n",
    "    query = f'CALL n10s.rdf.import.inline({new_data_str}, \"JSON-LD\");'\n",
    "    record = driver.execute_query(query, result_transformer_=lambda r: r.single(strict=True))\n",
    "    print(record)"
   ]
  },
  {
   "cell_type": "markdown",
   "id": "dd3bd719",
   "metadata": {},
   "source": [
    "Retrieve the updated \"Dataset 1\" subgraph."
   ]
  },
  {
   "cell_type": "code",
   "execution_count": 41,
   "id": "311e1ef3",
   "metadata": {},
   "outputs": [
    {
     "data": {
      "image/png": "[encoded data removed]",
      "text/plain": [
       "<Figure size 1000x1000 with 1 Axes>"
      ]
     },
     "metadata": {},
     "output_type": "display_data"
    }
   ],
   "source": [
    "with driver.session() as session:\n",
    "    query = \"\"\"\n",
    "    MATCH (d:dcat__Dataset)-[r*]->(related)\n",
    "    WHERE d.dcterms__identifier = \"dataset1\"\n",
    "    AND all(rel IN r WHERE type(rel) <> \"rdf__type\")\n",
    "    RETURN r, related;\n",
    "    \"\"\"\n",
    "    records = driver.execute_query(query, result_transformer_=neo4j.Result.graph)\n",
    "\n",
    "visualize_result(records, nodes_text_properties={\n",
    "    \"foaf__Person\": \"foaf__name\",\n",
    "    \"dcat__Distribution\": \"dcat__mediaType\",\n",
    "    \"dcat__Dataset\": \"dcterms__title\",\n",
    "})"
   ]
  },
  {
   "cell_type": "markdown",
   "id": "7d83f4f8",
   "metadata": {},
   "source": [
    "Get the updated Dataset attributes.  \n",
    "The transmitted attribute \"title\" in the nods Dataset was updated. The rest of the existing attributes of these nodes remain unchanged."
   ]
  },
  {
   "cell_type": "code",
   "execution_count": 42,
   "id": "0a45a7a3",
   "metadata": {},
   "outputs": [
    {
     "name": "stdout",
     "output_type": "stream",
     "text": [
      "Dataset:\n",
      "dcterms__identifier: dataset1\n",
      "nextgen__isShared: False\n",
      "dcterms__issued: 2011-12-05\n",
      "dcat__theme: ['general', 'clinical Data']\n",
      "ns0__sex: M\n",
      "dcterms__title: ['Example dataset 1@en', 'Пример датасета 1@ru', 'Exemple de jeu de données 1@fr']\n",
      "ns0__age: 30\n",
      "uri: http://example.com/base/dataset-001\n"
     ]
    }
   ],
   "source": [
    "with driver.session() as session:\n",
    "    query = \"\"\"\n",
    "    MATCH (d:dcat__Dataset)\n",
    "    WHERE d.dcterms__identifier = \"dataset1\"\n",
    "    RETURN d;\n",
    "    \"\"\"\n",
    "    record = driver.execute_query(query, result_transformer_=lambda r: r.single(strict=True))\n",
    "\n",
    "    print(\"Dataset:\")\n",
    "    for k, v in record.data()[\"d\"].items():\n",
    "        print(f\"{k}: {v}\")"
   ]
  },
  {
   "cell_type": "markdown",
   "id": "4c8d665e",
   "metadata": {},
   "source": [
    "Get the updated Distribution attributes.  \n",
    "The transmitted attributes byteSize and mediaType were updated. The rest of the existing attributes of these nodes remain unchanged."
   ]
  },
  {
   "cell_type": "code",
   "execution_count": 43,
   "id": "5681c581",
   "metadata": {},
   "outputs": [
    {
     "name": "stdout",
     "output_type": "stream",
     "text": [
      "Distribution:\n",
      "dcat__byteSize: 2024\n",
      "uri: http://example.com/base/distribution-001\n",
      "dcat__mediaType: application/json\n"
     ]
    }
   ],
   "source": [
    "with driver.session() as session:\n",
    "    query = \"\"\"\n",
    "    MATCH (d1:dcat__Dataset)-[]->(d2:dcat__Distribution)\n",
    "    WHERE d1.dcterms__identifier = \"dataset1\"\n",
    "    RETURN d2;\n",
    "    \"\"\"\n",
    "    record = driver.execute_query(query, result_transformer_=lambda r: r.single(strict=True))\n",
    "\n",
    "    print(\"Distribution:\")\n",
    "    for k, v in record.data()[\"d2\"].items():\n",
    "        print(f\"{k}: {v}\")"
   ]
  },
  {
   "cell_type": "markdown",
   "id": "6baa11a7",
   "metadata": {},
   "source": [
    "Get the updated Checksum attributes.  \n",
    "A new node Checksum was created, because Checksum does not have an id. The previous Checksum node is also present in the graph."
   ]
  },
  {
   "cell_type": "code",
   "execution_count": 44,
   "id": "4aaeed30",
   "metadata": {},
   "outputs": [
    {
     "name": "stdout",
     "output_type": "stream",
     "text": [
      "Checksums:\n",
      "--- Checksum:\n",
      "spdx__algorithm: md5\n",
      "spdx__checksumValue: 3e23e8160039594a33894f6564e1b1348bb8e482aa04f83e8e39b4e804d19b00\n",
      "uri: bnode://genid-eab37ea530a74b739647b5fcd7644e92245-b0\n",
      "--- Checksum:\n",
      "spdx__algorithm: sha256\n",
      "spdx__checksumValue: 3e23e8160039594a33894f6564e1b1348bb8e482aa04f83e8e39b4e804d19b84\n",
      "uri: bnode://genid-eab37ea530a74b739647b5fcd7644e92236-b0\n"
     ]
    }
   ],
   "source": [
    "with driver.session() as session:\n",
    "    query = \"\"\"\n",
    "    MATCH (d:dcat__Dataset)-[]->(d2:dcat__Distribution)-[]->(cs:spdx__Checksum)\n",
    "    WHERE d.dcterms__identifier = \"dataset1\"\n",
    "    RETURN cs;\n",
    "    \"\"\"\n",
    "    records = driver.execute_query(query)\n",
    "\n",
    "    print(\"Checksums:\")\n",
    "    for i in records.records:\n",
    "        print(\"--- Checksum:\")\n",
    "        for k, v in i.data()[\"cs\"].items():\n",
    "            print(f\"{k}: {v}\")"
   ]
  },
  {
   "cell_type": "markdown",
   "id": "eb2690c7",
   "metadata": {},
   "source": [
    "*Since we can't guarantee that the user will assign the required node IDs in the domain-specific ontology correctly (so they don't get duplicated during updates), the most reliable way is to delete the entire dataset subgraph and recreate it from scratch.*"
   ]
  },
  {
   "cell_type": "markdown",
   "id": "f7050443",
   "metadata": {},
   "source": [
    "## Exporting the subgraph"
   ]
  },
  {
   "cell_type": "markdown",
   "id": "45e75b05",
   "metadata": {},
   "source": [
    "Define a function to convert RDF to Json-ld."
   ]
  },
  {
   "cell_type": "code",
   "execution_count": 45,
   "id": "fdefa0a7",
   "metadata": {},
   "outputs": [],
   "source": [
    "def convert_to_jsonld(triples, context, base_uri):\n",
    "    graph = rdflib.Graph()\n",
    "\n",
    "    for subject, predicate, obj, isLiteral, literalType, literalLang, *rest in triples:\n",
    "        subject = subject.replace(base_uri, \"\")\n",
    "        predicate = predicate.replace(base_uri, \"\")\n",
    "        obj = obj.replace(base_uri, \"\") if isinstance(obj, str) else obj\n",
    "\n",
    "        if isLiteral:\n",
    "            if literalLang:\n",
    "                obj = rdflib.Literal(obj, lang=literalLang)\n",
    "            elif literalType:\n",
    "                obj = rdflib.Literal(obj, datatype=rdflib.URIRef(literalType))\n",
    "            else:\n",
    "                obj = rdflib.Literal(obj)\n",
    "        else:\n",
    "            obj = rdflib.URIRef(obj)\n",
    "\n",
    "        graph.add(\n",
    "            (rdflib.URIRef(subject), rdflib.URIRef(predicate), rdflib.Literal(obj))\n",
    "        )\n",
    "\n",
    "    context[\"@base\"] = base_uri\n",
    "\n",
    "    jsonld_data = graph.serialize(format=\"json-ld\", indent=4, context=context)\n",
    "    return jsonld_data"
   ]
  },
  {
   "cell_type": "markdown",
   "id": "487766e6",
   "metadata": {},
   "source": [
    "Extract triplets (RDF) from Neo4j and convert them to Json-ld."
   ]
  },
  {
   "cell_type": "code",
   "execution_count": 46,
   "id": "30497bd9",
   "metadata": {},
   "outputs": [
    {
     "name": "stdout",
     "output_type": "stream",
     "text": [
      "{\n",
      "    \"@context\": {\n",
      "        \"@base\": \"http://example.com/base/\",\n",
      "        \"dcat\": \"http://www.w3.org/ns/dcat#\",\n",
      "        \"dcterms\": \"http://purl.org/dc/terms/\",\n",
      "        \"foaf\": \"http://xmlns.com/foaf/0.1/\",\n",
      "        \"nextgen\": \"http://nextgen.org/\",\n",
      "        \"spdx\": \"http://spdx.org/rdf/terms#\"\n",
      "    },\n",
      "    \"@graph\": [\n",
      "        {\n",
      "            \"@id\": \"catalog-001\",\n",
      "            \"@type\": \"http://www.w3.org/ns/dcat#Catalog\",\n",
      "            \"dcat:dataset\": [\n",
      "                \"dataset-002\",\n",
      "                \"dataset-001\"\n",
      "            ],\n",
      "            \"dcat:service\": [\n",
      "                \"data-service-001\",\n",
      "                \"data-service-002\"\n",
      "            ],\n",
      "            \"dcterms:identifier\": \"c1\"\n",
      "        },\n",
      "        {\n",
      "            \"@id\": \"data-service-002\",\n",
      "            \"@type\": \"http://www.w3.org/ns/dcat#DataService\",\n",
      "            \"dcat:endpointURL\": \"http://example.org/dataproduct2\",\n",
      "            \"dcat:servesDataset\": \"dataset-002\"\n",
      "        },\n",
      "        {\n",
      "            \"@id\": \"person-001\",\n",
      "            \"@type\": \"http://xmlns.com/foaf/0.1/Person\",\n",
      "            \"dcterms:identifier\": \"user1\",\n",
      "            \"foaf:name\": \"Kate Smith\"\n",
      "        },\n",
      "        {\n",
      "            \"@id\": \"dataset-002\",\n",
      "            \"@type\": \"http://www.w3.org/ns/dcat#Dataset\",\n",
      "            \"dcat:distribution\": \"distribution-002\",\n",
      "            \"dcat:theme\": [\n",
      "                \"clinical data\",\n",
      "                \"another\",\n",
      "                \"general\"\n",
      "            ],\n",
      "            \"dcterms:creator\": \"person-001\",\n",
      "            \"dcterms:identifier\": \"dataset2\",\n",
      "            \"dcterms:issued\": \"2024-02-25\",\n",
      "            \"dcterms:title\": \"Example dataset 2\",\n",
      "            \"nextgen:isShared\": false\n",
      "        },\n",
      "        {\n",
      "            \"@id\": \"diagnosis-002\",\n",
      "            \"@type\": \"http://example-med-ontology-2.org/Diagnosis\",\n",
      "            \"http://example-med-ontology-2.org/code\": \"E11\",\n",
      "            \"http://example-med-ontology-2.org/description\": \"Type 2 diabetes mellitus\"\n",
      "        },\n",
      "        {\n",
      "            \"@id\": \"data-service-001\",\n",
      "            \"@type\": \"http://www.w3.org/ns/dcat#DataService\",\n",
      "            \"dcat:endpointURL\": \"http://example.org/dataproduct1\",\n",
      "            \"dcat:servesDataset\": \"dataset-001\"\n",
      "        },\n",
      "        {\n",
      "            \"@id\": \"dataset-001\",\n",
      "            \"@type\": \"http://www.w3.org/ns/dcat#Dataset\",\n",
      "            \"dcat:distribution\": \"distribution-001\",\n",
      "            \"dcat:theme\": [\n",
      "                \"clinical Data\",\n",
      "                \"general\"\n",
      "            ],\n",
      "            \"dcterms:creator\": \"person-001\",\n",
      "            \"dcterms:identifier\": \"dataset1\",\n",
      "            \"dcterms:issued\": \"2011-12-05\",\n",
      "            \"dcterms:title\": [\n",
      "                {\n",
      "                    \"@language\": \"fr\",\n",
      "                    \"@value\": \"Exemple de jeu de données 1\"\n",
      "                },\n",
      "                {\n",
      "                    \"@language\": \"en\",\n",
      "                    \"@value\": \"Example dataset 1\"\n",
      "                },\n",
      "                {\n",
      "                    \"@language\": \"ru\",\n",
      "                    \"@value\": \"Пример датасета 1\"\n",
      "                }\n",
      "            ],\n",
      "            \"http://example-med-ontology-1.org/age\": {\n",
      "                \"@type\": \"http://www.w3.org/2001/XMLSchema#long\",\n",
      "                \"@value\": \"30\"\n",
      "            },\n",
      "            \"http://example-med-ontology-1.org/sex\": \"M\",\n",
      "            \"http://example-med-ontology-2.org/diagnoses\": \"diagnoses-001\",\n",
      "            \"nextgen:isShared\": false\n",
      "        },\n",
      "        {\n",
      "            \"@id\": \"distribution-002\",\n",
      "            \"@type\": \"http://www.w3.org/ns/dcat#Distribution\",\n",
      "            \"dcat:accessService\": \"data-service-002\",\n",
      "            \"dcat:byteSize\": {\n",
      "                \"@type\": \"http://www.w3.org/2001/XMLSchema#long\",\n",
      "                \"@value\": \"1024\"\n",
      "            },\n",
      "            \"dcat:mediaType\": \"application/xml\",\n",
      "            \"spdx:checksum\": \"bnode://genid-eab37ea530a74b739647b5fcd7644e92236-b1\"\n",
      "        },\n",
      "        {\n",
      "            \"@id\": \"distribution-001\",\n",
      "            \"@type\": \"http://www.w3.org/ns/dcat#Distribution\",\n",
      "            \"dcat:accessService\": \"data-service-001\",\n",
      "            \"dcat:byteSize\": {\n",
      "                \"@type\": \"http://www.w3.org/2001/XMLSchema#long\",\n",
      "                \"@value\": \"2024\"\n",
      "            },\n",
      "            \"dcat:mediaType\": \"application/json\",\n",
      "            \"spdx:checksum\": [\n",
      "                \"bnode://genid-eab37ea530a74b739647b5fcd7644e92236-b0\",\n",
      "                \"bnode://genid-eab37ea530a74b739647b5fcd7644e92245-b0\"\n",
      "            ]\n",
      "        },\n",
      "        {\n",
      "            \"@id\": \"diagnosis-001\",\n",
      "            \"@type\": \"http://example-med-ontology-2.org/Diagnosis\",\n",
      "            \"http://example-med-ontology-2.org/code\": \"I10\",\n",
      "            \"http://example-med-ontology-2.org/description\": \"Essential (primary) hypertension\"\n",
      "        },\n",
      "        {\n",
      "            \"@id\": \"bnode://genid-eab37ea530a74b739647b5fcd7644e92245-b0\",\n",
      "            \"@type\": \"http://spdx.org/rdf/terms#Checksum\",\n",
      "            \"spdx:algorithm\": \"md5\",\n",
      "            \"spdx:checksumValue\": \"3e23e8160039594a33894f6564e1b1348bb8e482aa04f83e8e39b4e804d19b00\"\n",
      "        },\n",
      "        {\n",
      "            \"@id\": \"bnode://genid-eab37ea530a74b739647b5fcd7644e92236-b1\",\n",
      "            \"@type\": \"http://spdx.org/rdf/terms#Checksum\",\n",
      "            \"spdx:algorithm\": \"sha256\",\n",
      "            \"spdx:checksumValue\": \"3e23e8160039594a33894f6564e1b1348bb8e482aa04f83e8e39b4e804d19b85\"\n",
      "        },\n",
      "        {\n",
      "            \"@id\": \"diagnoses-001\",\n",
      "            \"@type\": \"http://example-med-ontology-2.org/Diagnoses\",\n",
      "            \"http://example-med-ontology-2.org/hasDiagnosis\": [\n",
      "                \"diagnosis-002\",\n",
      "                \"diagnosis-001\"\n",
      "            ]\n",
      "        },\n",
      "        {\n",
      "            \"@id\": \"bnode://genid-eab37ea530a74b739647b5fcd7644e92236-b0\",\n",
      "            \"@type\": \"http://spdx.org/rdf/terms#Checksum\",\n",
      "            \"spdx:algorithm\": \"sha256\",\n",
      "            \"spdx:checksumValue\": \"3e23e8160039594a33894f6564e1b1348bb8e482aa04f83e8e39b4e804d19b84\"\n",
      "        }\n",
      "    ]\n",
      "}\n"
     ]
    }
   ],
   "source": [
    "context = {\n",
    "    'nextgen': 'http://nextgen.org/',\n",
    "    'spdx': 'http://spdx.org/rdf/terms#',\n",
    "    'foaf': 'http://xmlns.com/foaf/0.1/',\n",
    "    'dcterms': 'http://purl.org/dc/terms/',\n",
    "    'dcat': 'http://www.w3.org/ns/dcat#',\n",
    "}\n",
    "\n",
    "base_uri = \"http://example.com/base/\"\n",
    "\n",
    "query = \"\"\"\n",
    "    call n10s.rdf.export.cypher('\n",
    "        MATCH (d:dcat__Dataset)-[r*]-(related)\n",
    "        WHERE d.dcterms__identifier = \"dataset1\"\n",
    "        AND all(rel IN r WHERE type(rel) <> \"rdf__type\")\n",
    "        RETURN d, r, related',\n",
    "        {stream: True, format: 'RDF'}\n",
    "    )\n",
    "\"\"\"\n",
    "\n",
    "def fetch_data_from_neo4j(tx):\n",
    "    result = tx.run(query)\n",
    "    return list(result)\n",
    "\n",
    "\n",
    "with driver.session() as session:\n",
    "    triples = session.execute_read(fetch_data_from_neo4j)\n",
    "    jsonld_result = convert_to_jsonld(triples, context, base_uri)\n",
    "    print(jsonld_result)"
   ]
  },
  {
   "cell_type": "markdown",
   "id": "a4c22102",
   "metadata": {},
   "source": [
    "## Deleting the subgraph"
   ]
  },
  {
   "cell_type": "markdown",
   "id": "6639fc1c",
   "metadata": {},
   "source": [
    "Delete the relation between Dataset and Person so that the user is not deleted along with the dataset. This is possible because the structural ontology of the catalog is known."
   ]
  },
  {
   "cell_type": "code",
   "execution_count": 47,
   "id": "cc007121",
   "metadata": {},
   "outputs": [
    {
     "name": "stdout",
     "output_type": "stream",
     "text": [
      "EagerResult(records=[], summary=<neo4j._work.summary.ResultSummary object at 0x00000218F391ED20>, keys=[])\n"
     ]
    }
   ],
   "source": [
    "query = \"\"\"\n",
    "MATCH (d:dcat__Dataset)-[r:dcterms__creator]->(p:foaf__Person)\n",
    "WHERE d.dcterms__identifier = \"dataset1\"\n",
    "DELETE r\n",
    "\"\"\"\n",
    "\n",
    "records = driver.execute_query(query)\n",
    "print(records)"
   ]
  },
  {
   "cell_type": "markdown",
   "id": "6f54a732",
   "metadata": {},
   "source": [
    "Delete the dataset."
   ]
  },
  {
   "cell_type": "code",
   "execution_count": 48,
   "id": "2eff6283",
   "metadata": {},
   "outputs": [
    {
     "name": "stdout",
     "output_type": "stream",
     "text": [
      "EagerResult(records=[], summary=<neo4j._work.summary.ResultSummary object at 0x00000218F3D338F0>, keys=[])\n"
     ]
    }
   ],
   "source": [
    "query = \"\"\"\n",
    "MATCH (d:dcat__Dataset)-[r*]->(related)\n",
    "WHERE d.dcterms__identifier = \"dataset1\"\n",
    "UNWIND r AS rel\n",
    "DELETE rel\n",
    "WITH d, collect(related) AS nodes\n",
    "UNWIND nodes AS node\n",
    "DETACH DELETE node\n",
    "DETACH DELETE d\n",
    "\"\"\"\n",
    "\n",
    "result = driver.execute_query(query)\n",
    "print(result)"
   ]
  },
  {
   "cell_type": "markdown",
   "id": "76093067",
   "metadata": {},
   "source": [
    "Check if the user still exists."
   ]
  },
  {
   "cell_type": "code",
   "execution_count": 49,
   "id": "16490680",
   "metadata": {},
   "outputs": [
    {
     "name": "stdout",
     "output_type": "stream",
     "text": [
      "Person:\n",
      "dcterms__identifier: user1\n",
      "uri: http://example.com/base/person-001\n",
      "foaf__name: Kate Smith\n"
     ]
    }
   ],
   "source": [
    "with driver.session() as session:\n",
    "    query = \"\"\"\n",
    "    MATCH (p:foaf__Person)\n",
    "    WHERE p.dcterms__identifier = \"user1\"\n",
    "    RETURN p;\n",
    "    \"\"\"\n",
    "    record = driver.execute_query(query, result_transformer_=lambda r: r.single(strict=True))\n",
    "\n",
    "    print(\"Person:\")\n",
    "    for k, v in record.data()[\"p\"].items():\n",
    "        print(f\"{k}: {v}\")\n",
    "    "
   ]
  },
  {
   "cell_type": "markdown",
   "id": "11fce479",
   "metadata": {},
   "source": [
    "Updated graph. There is singl dataset."
   ]
  },
  {
   "cell_type": "code",
   "execution_count": 50,
   "id": "82f4d6c7",
   "metadata": {},
   "outputs": [
    {
     "name": "stdout",
     "output_type": "stream",
     "text": [
      "Datasets:\n",
      "--- Dataset:\n",
      "dcterms__identifier: dataset2\n",
      "nextgen__isShared: False\n",
      "dcterms__issued: 2024-02-25\n",
      "dcat__theme: ['general', 'another', 'clinical data']\n",
      "dcterms__title: ['Example dataset 2']\n",
      "uri: http://example.com/base/dataset-002\n"
     ]
    }
   ],
   "source": [
    "with driver.session() as session:\n",
    "    query = \"\"\"\n",
    "    MATCH (c:dcat__Catalog)-[r:dcat__dataset]->(d:dcat__Dataset)\n",
    "    WHERE c.dcterms__identifier = \"c1\"\n",
    "    RETURN d;\n",
    "    \"\"\"\n",
    "    records = driver.execute_query(query)\n",
    "\n",
    "    print(\"Datasets:\")\n",
    "    for i in records.records:\n",
    "        print(\"--- Dataset:\")\n",
    "        for k, v in i.data()[\"d\"].items():\n",
    "            print(f\"{k}: {v}\")"
   ]
  },
  {
   "cell_type": "markdown",
   "id": "24946185",
   "metadata": {},
   "source": [
    "## Final steps"
   ]
  },
  {
   "cell_type": "markdown",
   "id": "a6b5ad25",
   "metadata": {},
   "source": [
    "Close connection"
   ]
  },
  {
   "cell_type": "code",
   "execution_count": 51,
   "id": "ec5d175d",
   "metadata": {},
   "outputs": [],
   "source": [
    "driver.close()"
   ]
  }
 ],
 "metadata": {
  "kernelspec": {
   "display_name": ".venv",
   "language": "python",
   "name": "python3"
  },
  "language_info": {
   "codemirror_mode": {
    "name": "ipython",
    "version": 3
   },
   "file_extension": ".py",
   "mimetype": "text/x-python",
   "name": "python",
   "nbconvert_exporter": "python",
   "pygments_lexer": "ipython3",
   "version": "3.12.1"
  }
 },
 "nbformat": 4,
 "nbformat_minor": 5
}
